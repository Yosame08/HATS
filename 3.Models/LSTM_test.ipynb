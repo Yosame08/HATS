{
 "cells": [
  {
   "cell_type": "code",
   "execution_count": 1,
   "metadata": {},
   "outputs": [
    {
     "name": "stderr",
     "output_type": "stream",
     "text": [
      "/home/yosame/.local/lib/python3.10/site-packages/matplotlib/projections/__init__.py:63: UserWarning: Unable to import Axes3D. This may be due to multiple versions of Matplotlib being installed (e.g. as a system package and as a pip package). As a result, the 3D projection is not available.\n",
      "  warnings.warn(\"Unable to import Axes3D. This may be due to multiple versions of \"\n"
     ]
    }
   ],
   "source": [
    "import torch\n",
    "import torch.nn as nn\n",
    "import seaborn as sns\n",
    "import numpy as np\n",
    "import pandas as pd\n",
    "import matplotlib.pyplot as plt"
   ]
  },
  {
   "cell_type": "code",
   "execution_count": 2,
   "metadata": {},
   "outputs": [
    {
     "data": {
      "text/plain": [
       "tensor([[[-0.4887, -0.1690, -0.0539,  0.7835, -0.0963, -0.1736, -0.1332,\n",
       "          -0.0223, -0.1465,  0.1727,  1.3011, -0.6188,  0.7727,  0.0751,\n",
       "          -0.6021,  0.5664,  1.0135,  0.4764, -1.1806, -0.2787],\n",
       "         [ 2.0759,  1.4601, -0.3778,  1.1331,  1.2783, -0.0530,  0.8546,\n",
       "          -1.5658,  1.6219,  1.1723,  0.5655, -0.0625,  1.0758,  0.2307,\n",
       "           1.0993, -1.2394,  0.2039,  0.9320, -0.1169,  0.4946],\n",
       "         [ 1.3342,  0.5041,  1.2509,  0.8837, -1.1147, -0.0955, -0.1760,\n",
       "           0.6184, -0.8204, -0.6015,  1.8202, -0.1454, -1.0944, -0.9126,\n",
       "          -0.0520,  0.6215,  0.2819,  1.1262,  1.0538, -0.0700]],\n",
       "\n",
       "        [[-0.8265,  0.4992,  0.7466,  1.1907, -0.1655,  1.3312, -0.8139,\n",
       "           0.0694, -2.2153,  0.3722,  0.0730, -1.0134,  0.4380,  0.5514,\n",
       "           0.1194,  0.5782,  1.5363, -0.2558,  0.2411, -0.3547],\n",
       "         [-1.0244,  0.0583,  0.2279,  1.2921,  0.4996, -0.5220,  0.1634,\n",
       "          -0.6894, -0.3471, -0.5279,  1.7487,  1.0423,  0.7493,  0.9050,\n",
       "          -1.5052,  0.0480, -0.3064, -0.5153,  1.4325, -1.7764],\n",
       "         [-0.3941, -1.4489,  1.3602, -2.2343, -0.1373,  0.7580, -0.4747,\n",
       "          -1.4919,  0.4821,  1.2024, -1.5444, -0.7050,  0.8115,  0.7967,\n",
       "           1.0010, -1.0091, -0.3689,  0.4025, -1.9576, -0.5901]]])"
      ]
     },
     "execution_count": 2,
     "metadata": {},
     "output_type": "execute_result"
    }
   ],
   "source": [
    "torch.randn(2, 3, 20)"
   ]
  }
 ],
 "metadata": {
  "kernelspec": {
   "display_name": "Python 3",
   "language": "python",
   "name": "python3"
  },
  "language_info": {
   "codemirror_mode": {
    "name": "ipython",
    "version": 3
   },
   "file_extension": ".py",
   "mimetype": "text/x-python",
   "name": "python",
   "nbconvert_exporter": "python",
   "pygments_lexer": "ipython3",
   "version": "3.10.12"
  }
 },
 "nbformat": 4,
 "nbformat_minor": 2
}
